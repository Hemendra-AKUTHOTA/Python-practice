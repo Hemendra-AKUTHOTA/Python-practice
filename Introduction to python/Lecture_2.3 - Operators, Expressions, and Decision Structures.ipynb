{
 "cells": [
  {
   "cell_type": "markdown",
   "metadata": {},
   "source": [
    "# Operators, Expressions, and Decision Structures"
   ]
  },
  {
   "cell_type": "code",
   "execution_count": 1,
   "metadata": {},
   "outputs": [],
   "source": [
    "# Relational operators\n",
    "# ==, !=, <, >, <=, >= \n",
    "# These operators result in a Boolean outcome\n",
    "# When you use relational operations, they are called boolean expressions"
   ]
  },
  {
   "cell_type": "code",
   "execution_count": 2,
   "metadata": {},
   "outputs": [
    {
     "name": "stdout",
     "output_type": "stream",
     "text": [
      "False\n"
     ]
    }
   ],
   "source": [
    "num1 = 5\n",
    "num2 = 8\n",
    "\n",
    "print(num1 == num2)"
   ]
  },
  {
   "cell_type": "code",
   "execution_count": 3,
   "metadata": {},
   "outputs": [
    {
     "name": "stdout",
     "output_type": "stream",
     "text": [
      "False\n"
     ]
    }
   ],
   "source": [
    "print(num1 > num2)"
   ]
  },
  {
   "cell_type": "code",
   "execution_count": 4,
   "metadata": {},
   "outputs": [],
   "source": [
    "# Logical Operators\n",
    "# and , or, !"
   ]
  },
  {
   "cell_type": "code",
   "execution_count": 5,
   "metadata": {},
   "outputs": [
    {
     "data": {
      "text/plain": [
       "False"
      ]
     },
     "execution_count": 5,
     "metadata": {},
     "output_type": "execute_result"
    }
   ],
   "source": [
    "# and operator combines two boolean expressions\n",
    "# compound expression\n",
    "\n",
    "(num1 > 0) and (num1 > num2)"
   ]
  },
  {
   "cell_type": "code",
   "execution_count": 6,
   "metadata": {},
   "outputs": [
    {
     "data": {
      "text/plain": [
       "True"
      ]
     },
     "execution_count": 6,
     "metadata": {},
     "output_type": "execute_result"
    }
   ],
   "source": [
    "(num1 > 0) or (num1 < num2)"
   ]
  },
  {
   "cell_type": "code",
   "execution_count": 7,
   "metadata": {},
   "outputs": [
    {
     "ename": "SyntaxError",
     "evalue": "invalid syntax (<ipython-input-7-38db3839b4a7>, line 2)",
     "output_type": "error",
     "traceback": [
      "\u001b[1;36m  File \u001b[1;32m\"<ipython-input-7-38db3839b4a7>\"\u001b[1;36m, line \u001b[1;32m2\u001b[0m\n\u001b[1;33m    X    Y     X and Y    X or Y   !X\u001b[0m\n\u001b[1;37m         ^\u001b[0m\n\u001b[1;31mSyntaxError\u001b[0m\u001b[1;31m:\u001b[0m invalid syntax\n"
     ]
    }
   ],
   "source": [
    "# Truth Table\n",
    "X    Y     X and Y    X or Y   !X\n",
    "=================================\n",
    "T    T        T          T      F\n",
    "T    F        F          T      F\n",
    "F    T        F          T      T\n",
    "F    F        F          F      T"
   ]
  },
  {
   "cell_type": "markdown",
   "metadata": {},
   "source": [
    "### Decision Stuctures or Selection Structures"
   ]
  },
  {
   "cell_type": "code",
   "execution_count": 8,
   "metadata": {},
   "outputs": [],
   "source": [
    "# Sequence Structure\n",
    "# Selection Structure\n",
    "# Repetition Structure"
   ]
  },
  {
   "cell_type": "code",
   "execution_count": 9,
   "metadata": {},
   "outputs": [],
   "source": [
    "# Simple selection structure - single structure\n",
    "\n",
    "# if <conditon>:\n",
    "#    execute the statement\n",
    "\n",
    "# Dual selection structure\n",
    "\n",
    "# if <condition>:\n",
    "#     execute statement 1\n",
    "# else:\n",
    "#     execute another statement\n",
    "\n",
    "# Multiple selction structures\n",
    "# Nested selection structures"
   ]
  },
  {
   "cell_type": "code",
   "execution_count": 10,
   "metadata": {},
   "outputs": [
    {
     "name": "stdout",
     "output_type": "stream",
     "text": [
      "1) number is  5\n",
      "2) another statment\n",
      "3) End of if condition\n"
     ]
    }
   ],
   "source": [
    "num = 5\n",
    "if (num == 5):\n",
    "    print(\"1) number is \", num)\n",
    "    print(\"2) another statment\")\n",
    "    \n",
    "print(\"3) End of if condition\")"
   ]
  },
  {
   "cell_type": "code",
   "execution_count": 11,
   "metadata": {},
   "outputs": [
    {
     "name": "stdout",
     "output_type": "stream",
     "text": [
      "3) End of if condition\n"
     ]
    }
   ],
   "source": [
    "num = 5\n",
    "if (num > 5):\n",
    "    print(\"1) number is \", num)\n",
    "    print(\"2) another statment\")\n",
    "    \n",
    "print(\"3) End of if condition\")"
   ]
  },
  {
   "cell_type": "code",
   "execution_count": 12,
   "metadata": {},
   "outputs": [
    {
     "name": "stdout",
     "output_type": "stream",
     "text": [
      "Enter a number: 5\n",
      "2) 5 is odd\n",
      "3) End of if condtion\n"
     ]
    }
   ],
   "source": [
    "num = int(input(\"Enter a number: \"))\n",
    "\n",
    "if (num % 2 == 0):\n",
    "    print(\"1)\", num, \"is even\") # if-block\n",
    "else:\n",
    "    print(\"2)\", num, \"is odd\") #else-block\n",
    "    \n",
    "print(\"3) End of if condtion\")"
   ]
  },
  {
   "cell_type": "code",
   "execution_count": 13,
   "metadata": {},
   "outputs": [
    {
     "name": "stdout",
     "output_type": "stream",
     "text": [
      "Number is 5\n",
      "This statement always executes\n"
     ]
    }
   ],
   "source": [
    "# Multiple selection structure and also nested structure\n",
    "num = 5\n",
    "\n",
    "if (num == 5):\n",
    "    print(\"Number is 5\")\n",
    "else:\n",
    "    if(num > 5):\n",
    "        print(\"Number is greater than 5\")\n",
    "    else:\n",
    "        print(\"Number is less than 5\")\n",
    "            \n",
    "print(\"This statement always executes\")"
   ]
  },
  {
   "cell_type": "code",
   "execution_count": 14,
   "metadata": {},
   "outputs": [
    {
     "name": "stdout",
     "output_type": "stream",
     "text": [
      "Number is greater than 5\n",
      "This statement always executes\n"
     ]
    }
   ],
   "source": [
    "num = 7\n",
    "\n",
    "if (num == 5):\n",
    "    print(\"Number is 5\")\n",
    "elif (num > 5):\n",
    "    print(\"Number is greater than 5\")\n",
    "else:\n",
    "    print(\"Number is less than 5\")\n",
    "            \n",
    "print(\"This statement always executes\")"
   ]
  },
  {
   "cell_type": "code",
   "execution_count": 15,
   "metadata": {},
   "outputs": [
    {
     "name": "stdout",
     "output_type": "stream",
     "text": [
      "Enter your score: 445\n",
      "Congrats!!! you got distinction\n"
     ]
    }
   ],
   "source": [
    "marks = int(input(\"Enter your score: \"))\n",
    "\n",
    "if marks > 80:\n",
    "    print(\"Congrats!!! you got distinction\")\n",
    "elif (marks <= 80 and marks > 60):\n",
    "    print(\"You got first class\")\n",
    "elif (marks <= 60 and marks > 35):\n",
    "    print(\"You got second class\")\n",
    "elif (marks <= 35 and marks >= 0):\n",
    "    print(\"Sorry!! you need to retake the exam\")\n",
    "else:\n",
    "    print(\"Invalid score\")"
   ]
  },
  {
   "cell_type": "code",
   "execution_count": 18,
   "metadata": {},
   "outputs": [
    {
     "name": "stdout",
     "output_type": "stream",
     "text": [
      "Enter a number: 44\n",
      "number is greater than 5\n",
      "Statement outside if structure\n"
     ]
    }
   ],
   "source": [
    "number = int(input(\"Enter a number: \"))\n",
    "\n",
    "if (number > 5):\n",
    "    print(\"number is greater than 5\")\n",
    "else:\n",
    "    print(\"number is not greater than 5\")\n",
    "    \n",
    "print(\"Statement outside if structure\")"
   ]
  },
  {
   "cell_type": "code",
   "execution_count": 20,
   "metadata": {},
   "outputs": [
    {
     "name": "stdout",
     "output_type": "stream",
     "text": [
      "Enter a number: 25\n",
      "Something went wrong!!!\n",
      "Statement outside if structure\n"
     ]
    }
   ],
   "source": [
    "try:\n",
    "    number = input(\"Enter a number: \")\n",
    "    \n",
    "    if (number > 5):\n",
    "        print(\"number is greater than 5\")\n",
    "    else:\n",
    "        print(\"number is not greater than 5\")\n",
    "\n",
    "except:\n",
    "    print(\"Something went wrong!!!\")\n",
    "    \n",
    "print(\"Statement outside if structure\")    "
   ]
  },
  {
   "cell_type": "code",
   "execution_count": null,
   "metadata": {},
   "outputs": [],
   "source": []
  }
 ],
 "metadata": {
  "kernelspec": {
   "display_name": "Python 3",
   "language": "python",
   "name": "python3"
  },
  "language_info": {
   "codemirror_mode": {
    "name": "ipython",
    "version": 3
   },
   "file_extension": ".py",
   "mimetype": "text/x-python",
   "name": "python",
   "nbconvert_exporter": "python",
   "pygments_lexer": "ipython3",
   "version": "3.7.6"
  }
 },
 "nbformat": 4,
 "nbformat_minor": 4
}
