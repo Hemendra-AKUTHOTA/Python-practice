{
 "cells": [
  {
   "cell_type": "code",
   "execution_count": 2,
   "metadata": {},
   "outputs": [],
   "source": [
    "import numpy as np\n",
    "import matplotlib.pyplot as plt\n",
    "import scipy.linalg as LA\n"
   ]
  },
  {
   "cell_type": "code",
   "execution_count": 12,
   "metadata": {},
   "outputs": [],
   "source": [
    "A = np.array([[2,1,0],[1,2,1],[0,1,2]])\n",
    "w, v = LA.eig(A)"
   ]
  },
  {
   "cell_type": "code",
   "execution_count": 5,
   "metadata": {},
   "outputs": [
    {
     "name": "stdout",
     "output_type": "stream",
     "text": [
      "[3.41421356+0.j 2.        +0.j 0.58578644+0.j]\n"
     ]
    }
   ],
   "source": [
    "# eigen values\n",
    "print(w)"
   ]
  },
  {
   "cell_type": "code",
   "execution_count": 6,
   "metadata": {},
   "outputs": [
    {
     "name": "stdout",
     "output_type": "stream",
     "text": [
      "[[-5.00000000e-01  7.07106781e-01  5.00000000e-01]\n",
      " [-7.07106781e-01  4.05405432e-16 -7.07106781e-01]\n",
      " [-5.00000000e-01 -7.07106781e-01  5.00000000e-01]]\n"
     ]
    }
   ],
   "source": [
    "# eigen vectors\n",
    "print(v)"
   ]
  },
  {
   "cell_type": "code",
   "execution_count": 8,
   "metadata": {},
   "outputs": [
    {
     "name": "stdout",
     "output_type": "stream",
     "text": [
      "[[-5.00000000e-01  7.07106781e-01  5.00000000e-01]\n",
      " [-7.07106781e-01  4.05405432e-16 -7.07106781e-01]\n",
      " [-5.00000000e-01 -7.07106781e-01  5.00000000e-01]]\n"
     ]
    }
   ],
   "source": [
    "print(v.real)"
   ]
  },
  {
   "cell_type": "code",
   "execution_count": 9,
   "metadata": {},
   "outputs": [
    {
     "name": "stdout",
     "output_type": "stream",
     "text": [
      "[[3 2 2]\n",
      " [2 3 2]]\n",
      "[[-0.70710678 -0.70710678]\n",
      " [-0.70710678  0.70710678]]\n",
      "[5.74456265 1.        ]\n",
      "[[-6.15457455e-01 -6.15457455e-01 -4.92365964e-01]\n",
      " [-7.07106781e-01  7.07106781e-01 -1.38777878e-17]\n",
      " [-3.48155312e-01 -3.48155312e-01  8.70388280e-01]]\n"
     ]
    }
   ],
   "source": [
    "A = np.array([[3,2,2], [2,3,2]])\n",
    "print(A)\n",
    "# SVD\n",
    "U, s, VT = LA.svd(A)\n",
    "print(U)\n",
    "print(s)\n",
    "print(VT)"
   ]
  },
  {
   "cell_type": "code",
   "execution_count": 37,
   "metadata": {},
   "outputs": [
    {
     "name": "stdout",
     "output_type": "stream",
     "text": [
      "[[ 0.537516  -0.47208    0.0271092]\n",
      " [-0.47208    0.537516   0.0271092]]\n"
     ]
    }
   ],
   "source": [
    "mat31 = np.array([[0.082, 0.714],[0.082, -0.714]])\n",
    "mat11 = np.array([[5.7, 0, 0],[0, 1, 0]]) \n",
    "mat21 = np.array([[0.07, 0.07, 0.058],[0.707, -0.707, 0],[-0.348, -0.348, 0.87]])\n",
    "res1 = np.dot(mat31,np.dot(mat11,mat21))\n",
    "print(res1)"
   ]
  },
  {
   "cell_type": "code",
   "execution_count": 36,
   "metadata": {},
   "outputs": [
    {
     "name": "stdout",
     "output_type": "stream",
     "text": [
      "[[10.576  8.576  7.98 ]\n",
      " [ 8.576 10.576  7.98 ]]\n"
     ]
    }
   ],
   "source": [
    "mat3 = np.array([[1.4, 1],[1.4,-1]])\n",
    "mat1 = np.array([[5.7, 0, 0],[0, 1, 0]]) \n",
    "mat2 = np.array([[1.2, 1.2, 1],[1, -1, 0],[-0.4, -0.4, 1]]) \n",
    "res = np.dot(mat3,np.dot(mat1,mat2))\n",
    "print(res)"
   ]
  },
  {
   "cell_type": "code",
   "execution_count": 36,
   "metadata": {},
   "outputs": [
    {
     "name": "stdout",
     "output_type": "stream",
     "text": [
      "[[0.]\n",
      " [0.]\n",
      " [0.]]\n"
     ]
    }
   ],
   "source": [
    "mat1 = np.array([[13, 12, 10],[12, 13, 10],[10, 10, 8]]) \n",
    "mat2 = np.array([[-0.4], [-0.4], [1]])\n",
    "res = np.dot(mat1,mat2)\n",
    "print(res)"
   ]
  },
  {
   "cell_type": "code",
   "execution_count": 37,
   "metadata": {},
   "outputs": [
    {
     "data": {
      "text/plain": [
       "array([[-0.],\n",
       "       [-0.],\n",
       "       [ 0.]])"
      ]
     },
     "execution_count": 37,
     "metadata": {},
     "output_type": "execute_result"
    }
   ],
   "source": [
    "# mat3 = ([1.56, 1.6, 1])\n",
    "b = 0\n",
    "b*mat2"
   ]
  },
  {
   "cell_type": "code",
   "execution_count": 34,
   "metadata": {},
   "outputs": [
    {
     "ename": "ValueError",
     "evalue": "shapes (2,2) and (3,3) not aligned: 2 (dim 1) != 3 (dim 0)",
     "output_type": "error",
     "traceback": [
      "\u001b[1;31m---------------------------------------------------------------------------\u001b[0m",
      "\u001b[1;31mValueError\u001b[0m                                Traceback (most recent call last)",
      "\u001b[1;32m<ipython-input-34-5f0078a5a7b2>\u001b[0m in \u001b[0;36m<module>\u001b[1;34m\u001b[0m\n\u001b[0;32m      2\u001b[0m \u001b[1;31m# mat2 = np.array([[1.2, 1.2, 1],[1, -1, 0],[-0.4, -0.4, 1]])\u001b[0m\u001b[1;33m\u001b[0m\u001b[1;33m\u001b[0m\u001b[1;33m\u001b[0m\u001b[0m\n\u001b[0;32m      3\u001b[0m \u001b[0mmat4\u001b[0m \u001b[1;33m=\u001b[0m \u001b[0mnp\u001b[0m\u001b[1;33m.\u001b[0m\u001b[0marray\u001b[0m\u001b[1;33m(\u001b[0m\u001b[1;33m[\u001b[0m\u001b[1;33m[\u001b[0m\u001b[1;36m1.2\u001b[0m\u001b[1;33m,\u001b[0m\u001b[1;36m1\u001b[0m\u001b[1;33m,\u001b[0m\u001b[1;33m-\u001b[0m\u001b[1;36m0.4\u001b[0m\u001b[1;33m]\u001b[0m\u001b[1;33m,\u001b[0m\u001b[1;33m[\u001b[0m\u001b[1;36m1.2\u001b[0m\u001b[1;33m,\u001b[0m\u001b[1;33m-\u001b[0m\u001b[1;36m1\u001b[0m\u001b[1;33m,\u001b[0m\u001b[1;33m-\u001b[0m\u001b[1;36m0.4\u001b[0m\u001b[1;33m]\u001b[0m\u001b[1;33m,\u001b[0m\u001b[1;33m[\u001b[0m\u001b[1;36m1\u001b[0m\u001b[1;33m,\u001b[0m\u001b[1;36m0\u001b[0m\u001b[1;33m,\u001b[0m\u001b[1;36m1\u001b[0m\u001b[1;33m]\u001b[0m\u001b[1;33m]\u001b[0m\u001b[1;33m)\u001b[0m\u001b[1;33m\u001b[0m\u001b[1;33m\u001b[0m\u001b[0m\n\u001b[1;32m----> 4\u001b[1;33m \u001b[0mres1\u001b[0m \u001b[1;33m=\u001b[0m \u001b[0mnp\u001b[0m\u001b[1;33m.\u001b[0m\u001b[0mdot\u001b[0m\u001b[1;33m(\u001b[0m\u001b[0mmat3\u001b[0m\u001b[1;33m,\u001b[0m\u001b[0mmat4\u001b[0m\u001b[1;33m)\u001b[0m\u001b[1;33m\u001b[0m\u001b[1;33m\u001b[0m\u001b[0m\n\u001b[0m\u001b[0;32m      5\u001b[0m \u001b[0mprint\u001b[0m\u001b[1;33m(\u001b[0m\u001b[0mres\u001b[0m\u001b[1;33m)\u001b[0m\u001b[1;33m\u001b[0m\u001b[1;33m\u001b[0m\u001b[0m\n",
      "\u001b[1;32m<__array_function__ internals>\u001b[0m in \u001b[0;36mdot\u001b[1;34m(*args, **kwargs)\u001b[0m\n",
      "\u001b[1;31mValueError\u001b[0m: shapes (2,2) and (3,3) not aligned: 2 (dim 1) != 3 (dim 0)"
     ]
    }
   ],
   "source": [
    "mat3 = np.array([[1.4, 1],[1.4,-1]])\n",
    "# mat2 = np.array([[1.2, 1.2, 1],[1, -1, 0],[-0.4, -0.4, 1]]) \n",
    "mat4 = np.array([[1.2,1,-0.4],[1.2,-1,-0.4],[1,0,1]])\n",
    "res1 = np.dot(mat3,mat4)\n",
    "print(res)"
   ]
  },
  {
   "cell_type": "code",
   "execution_count": 14,
   "metadata": {},
   "outputs": [
    {
     "name": "stdout",
     "output_type": "stream",
     "text": [
      "[[-0.28393812 -0.95884261]\n",
      " [-0.95884261  0.28393812]]\n",
      "[8.5343253  3.58695548]\n",
      "[[-0.55125257 -0.74200607  0.38150701]\n",
      " [-0.50167336 -0.07058715 -0.86217243]\n",
      " [-0.66666667  0.66666667  0.33333333]]\n"
     ]
    }
   ],
   "source": [
    "U, s, VT = LA.svd(res)\n",
    "print(U)\n",
    "print(s)\n",
    "print(VT)"
   ]
  },
  {
   "cell_type": "code",
   "execution_count": 11,
   "metadata": {},
   "outputs": [
    {
     "name": "stdout",
     "output_type": "stream",
     "text": [
      "[[ 3.06122449  2.04081633  2.04081633]\n",
      " [ 4.          6.         -4.        ]]\n"
     ]
    }
   ],
   "source": [
    "mat3=([[1/1.4, 1/1.4],[1.4,-1.4]])\n",
    "mat1 = np.array([[5, 0, 0],[0, 3, 0]]) \n",
    "mat2 = np.array([[1/1.4, 1/1.4, 0],[1/4.2, -1/4.2, 4/4.2],[0.67, -0.67, 0.3]]) \n",
    "res = np.matmul(mat3,np.matmul(mat1,mat2))\n",
    "print(res)"
   ]
  },
  {
   "cell_type": "code",
   "execution_count": null,
   "metadata": {},
   "outputs": [],
   "source": []
  },
  {
   "cell_type": "code",
   "execution_count": 5,
   "metadata": {},
   "outputs": [
    {
     "data": {
      "text/plain": [
       "0.894736842105263"
      ]
     },
     "execution_count": 5,
     "metadata": {},
     "output_type": "execute_result"
    }
   ],
   "source": [
    "1/"
   ]
  },
  {
   "cell_type": "code",
   "execution_count": 7,
   "metadata": {},
   "outputs": [],
   "source": [
    "mat3=([[0.95, 5.4],[0.89,5.1]])\n",
    "res2 = np.dot(mat3,res)"
   ]
  },
  {
   "cell_type": "code",
   "execution_count": 8,
   "metadata": {},
   "outputs": [
    {
     "name": "stdout",
     "output_type": "stream",
     "text": [
      "[[11.898   1.098   5.415 ]\n",
      " [11.1876  0.9876  5.073 ]]\n"
     ]
    }
   ],
   "source": [
    "print(res2)"
   ]
  },
  {
   "cell_type": "code",
   "execution_count": null,
   "metadata": {},
   "outputs": [],
   "source": []
  }
 ],
 "metadata": {
  "kernelspec": {
   "display_name": "Python 3",
   "language": "python",
   "name": "python3"
  },
  "language_info": {
   "codemirror_mode": {
    "name": "ipython",
    "version": 3
   },
   "file_extension": ".py",
   "mimetype": "text/x-python",
   "name": "python",
   "nbconvert_exporter": "python",
   "pygments_lexer": "ipython3",
   "version": "3.7.6"
  }
 },
 "nbformat": 4,
 "nbformat_minor": 4
}
